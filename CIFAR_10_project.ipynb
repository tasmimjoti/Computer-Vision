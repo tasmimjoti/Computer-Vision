{
  "nbformat": 4,
  "nbformat_minor": 0,
  "metadata": {
    "colab": {
      "provenance": [],
      "authorship_tag": "ABX9TyOsbETDT15IhBiS/sq27JWq",
      "include_colab_link": true
    },
    "kernelspec": {
      "name": "python3",
      "display_name": "Python 3"
    },
    "language_info": {
      "name": "python"
    }
  },
  "cells": [
    {
      "cell_type": "markdown",
      "metadata": {
        "id": "view-in-github",
        "colab_type": "text"
      },
      "source": [
        "<a href=\"https://colab.research.google.com/github/tasmimjoti/Computer-Vision/blob/main/CIFAR_10_project.ipynb\" target=\"_parent\"><img src=\"https://colab.research.google.com/assets/colab-badge.svg\" alt=\"Open In Colab\"/></a>"
      ]
    },
    {
      "cell_type": "code",
      "source": [
        "!pip install utils\n",
        "import numpy as np\n",
        "import pandas as pd\n",
        "import matplotlib.pyplot as plt\n",
        "import tensorflow as tf\n",
        "from tensorflow import keras\n",
        "from keras.models import Sequential\n",
        "from tensorflow.keras.utils import to_categorical\n",
        "from keras.layers import Dense, Flatten, Dropout, Conv2D, MaxPooling2D"
      ],
      "metadata": {
        "colab": {
          "base_uri": "https://localhost:8080/"
        },
        "id": "j52hf7BKEHr5",
        "outputId": "f90d9d0f-58c4-4f7f-c3bf-c7f86f13b321"
      },
      "execution_count": 1,
      "outputs": [
        {
          "output_type": "stream",
          "name": "stdout",
          "text": [
            "Collecting utils\n",
            "  Downloading utils-1.0.2.tar.gz (13 kB)\n",
            "  Preparing metadata (setup.py) ... \u001b[?25l\u001b[?25hdone\n",
            "Building wheels for collected packages: utils\n",
            "  Building wheel for utils (setup.py) ... \u001b[?25l\u001b[?25hdone\n",
            "  Created wheel for utils: filename=utils-1.0.2-py2.py3-none-any.whl size=13906 sha256=69f202dbf3afff402eca8dd728e605dbfc355eaaa3e73d11c5eb38ced607ee06\n",
            "  Stored in directory: /root/.cache/pip/wheels/b8/39/f5/9d0ca31dba85773ececf0a7f5469f18810e1c8a8ed9da28ca7\n",
            "Successfully built utils\n",
            "Installing collected packages: utils\n",
            "Successfully installed utils-1.0.2\n"
          ]
        }
      ]
    },
    {
      "cell_type": "code",
      "source": [
        "cifar10 = tf.keras.datasets.cifar10\n",
        "(xtrain, ytrain),(xtest, ytest) = keras.datasets.cifar10.load_data()\n",
        "assert xtrain.shape == (50000, 32, 32, 3)\n",
        "assert xtest.shape == (10000, 32, 32, 3)\n",
        "assert ytrain.shape == (50000, 1)\n",
        "assert ytest.shape == (10000, 1)"
      ],
      "metadata": {
        "id": "lLo2no1jElAA",
        "colab": {
          "base_uri": "https://localhost:8080/"
        },
        "outputId": "7b3f5f31-419d-432a-8ad4-86301308252d"
      },
      "execution_count": 2,
      "outputs": [
        {
          "output_type": "stream",
          "name": "stdout",
          "text": [
            "Downloading data from https://www.cs.toronto.edu/~kriz/cifar-10-python.tar.gz\n",
            "170498071/170498071 [==============================] - 4s 0us/step\n"
          ]
        }
      ]
    },
    {
      "cell_type": "code",
      "source": [
        "xtrain.shape"
      ],
      "metadata": {
        "colab": {
          "base_uri": "https://localhost:8080/"
        },
        "id": "5JBQZUZQEqtH",
        "outputId": "91710bda-6d10-4554-a223-26b1455f1362"
      },
      "execution_count": 3,
      "outputs": [
        {
          "output_type": "execute_result",
          "data": {
            "text/plain": [
              "(50000, 32, 32, 3)"
            ]
          },
          "metadata": {},
          "execution_count": 3
        }
      ]
    },
    {
      "cell_type": "code",
      "source": [
        "xtest.shape"
      ],
      "metadata": {
        "colab": {
          "base_uri": "https://localhost:8080/"
        },
        "id": "hNbFb74CUKMW",
        "outputId": "5f8835c5-d788-4073-9e69-646c9fdf0354"
      },
      "execution_count": 4,
      "outputs": [
        {
          "output_type": "execute_result",
          "data": {
            "text/plain": [
              "(10000, 32, 32, 3)"
            ]
          },
          "metadata": {},
          "execution_count": 4
        }
      ]
    },
    {
      "cell_type": "code",
      "source": [
        "ytrain.shape"
      ],
      "metadata": {
        "colab": {
          "base_uri": "https://localhost:8080/"
        },
        "id": "RSmNMnsnUcEN",
        "outputId": "db539e61-3b8c-4269-c0e7-3f6069d72666"
      },
      "execution_count": 5,
      "outputs": [
        {
          "output_type": "execute_result",
          "data": {
            "text/plain": [
              "(50000, 1)"
            ]
          },
          "metadata": {},
          "execution_count": 5
        }
      ]
    },
    {
      "cell_type": "code",
      "source": [
        "ytrain[:5]"
      ],
      "metadata": {
        "colab": {
          "base_uri": "https://localhost:8080/"
        },
        "id": "yx-dYQh-UlG_",
        "outputId": "6807329f-d4ba-4daf-d3e6-765bdb63db1f"
      },
      "execution_count": 6,
      "outputs": [
        {
          "output_type": "execute_result",
          "data": {
            "text/plain": [
              "array([[6],\n",
              "       [9],\n",
              "       [9],\n",
              "       [4],\n",
              "       [1]], dtype=uint8)"
            ]
          },
          "metadata": {},
          "execution_count": 6
        }
      ]
    },
    {
      "cell_type": "code",
      "source": [
        "ytrain = ytrain.reshape(-1,)\n",
        "ytrain[:5]\n"
      ],
      "metadata": {
        "colab": {
          "base_uri": "https://localhost:8080/"
        },
        "id": "Ebbxk_XbUq-E",
        "outputId": "303790e0-3bf6-4881-be04-1246de54b419"
      },
      "execution_count": 7,
      "outputs": [
        {
          "output_type": "execute_result",
          "data": {
            "text/plain": [
              "array([6, 9, 9, 4, 1], dtype=uint8)"
            ]
          },
          "metadata": {},
          "execution_count": 7
        }
      ]
    },
    {
      "cell_type": "code",
      "source": [
        "ytest[:5]"
      ],
      "metadata": {
        "colab": {
          "base_uri": "https://localhost:8080/"
        },
        "id": "ZRwi9Nw1VOT3",
        "outputId": "d86d53c4-8a9b-4e67-a5a2-6f8537b72c57"
      },
      "execution_count": 8,
      "outputs": [
        {
          "output_type": "execute_result",
          "data": {
            "text/plain": [
              "array([[3],\n",
              "       [8],\n",
              "       [8],\n",
              "       [0],\n",
              "       [6]], dtype=uint8)"
            ]
          },
          "metadata": {},
          "execution_count": 8
        }
      ]
    },
    {
      "cell_type": "code",
      "source": [
        "ytest = ytest.reshape(-1,)\n",
        "ytest[:5] #show 0-4 element"
      ],
      "metadata": {
        "colab": {
          "base_uri": "https://localhost:8080/"
        },
        "id": "UzVG2BaqU1_E",
        "outputId": "5c5a4ee0-dd62-402f-9d01-48e94d03b09c"
      },
      "execution_count": 9,
      "outputs": [
        {
          "output_type": "execute_result",
          "data": {
            "text/plain": [
              "array([3, 8, 8, 0, 6], dtype=uint8)"
            ]
          },
          "metadata": {},
          "execution_count": 9
        }
      ]
    },
    {
      "cell_type": "code",
      "source": [
        "classes = [\"airplane\", \"automobile\", \"bird\", \"cat\", \"deer\", \"dog\", \"frog\", \"horse\", \"ship\", \"truck\"]"
      ],
      "metadata": {
        "id": "gRYGPWpRVpAd"
      },
      "execution_count": 10,
      "outputs": []
    },
    {
      "cell_type": "code",
      "source": [
        "plt.matshow(xtrain[10])"
      ],
      "metadata": {
        "colab": {
          "base_uri": "https://localhost:8080/",
          "height": 454
        },
        "id": "lDv1EREIHz8w",
        "outputId": "9da0cde5-c1c9-45c1-8d09-0b099903e8df"
      },
      "execution_count": 11,
      "outputs": [
        {
          "output_type": "execute_result",
          "data": {
            "text/plain": [
              "<matplotlib.image.AxesImage at 0x796ec31ef010>"
            ]
          },
          "metadata": {},
          "execution_count": 11
        },
        {
          "output_type": "display_data",
          "data": {
            "text/plain": [
              "<Figure size 480x480 with 1 Axes>"
            ],
            "image/png": "[encoded data removed]"
          },
          "metadata": {}
        }
      ]
    },
    {
      "cell_type": "markdown",
      "source": [
        "# **Normalizing the training data**"
      ],
      "metadata": {
        "id": "ls5oIQCHWPud"
      }
    },
    {
      "cell_type": "code",
      "source": [
        "xtest = xtest/255\n",
        "xtrain = xtrain/255"
      ],
      "metadata": {
        "id": "T6QNrQ5JH51G"
      },
      "execution_count": 12,
      "outputs": []
    },
    {
      "cell_type": "code",
      "source": [
        "Xtrain = xtrain[:, :, :, np.newaxis]\n",
        "Xtrain.shape"
      ],
      "metadata": {
        "colab": {
          "base_uri": "https://localhost:8080/"
        },
        "id": "FrUnaVYzIH2W",
        "outputId": "039b6f60-f7c2-4594-a6d4-0ed044571ae3"
      },
      "execution_count": 13,
      "outputs": [
        {
          "output_type": "execute_result",
          "data": {
            "text/plain": [
              "(50000, 32, 32, 1, 3)"
            ]
          },
          "metadata": {},
          "execution_count": 13
        }
      ]
    },
    {
      "cell_type": "code",
      "source": [
        "batch_size = 64"
      ],
      "metadata": {
        "id": "VRuXK6VfMNeO"
      },
      "execution_count": 14,
      "outputs": []
    },
    {
      "cell_type": "code",
      "source": [
        "Xtest = xtest[:, :, :, np.newaxis]"
      ],
      "metadata": {
        "id": "rtg3BhUqIQ1u"
      },
      "execution_count": 15,
      "outputs": []
    },
    {
      "cell_type": "code",
      "source": [
        "input_shape = (batch_size, 32, 32, 3)\n",
        "model =  tf.keras.models.Sequential([\n",
        "  tf.keras.layers.Conv2D(filters = 32, kernel_size = (3, 3), activation='relu', input_shape = (32, 32, 3)),\n",
        "  tf.keras.layers.MaxPooling2D((2, 2)),\n",
        "\n",
        "  tf.keras.layers.Conv2D(filters = 64, kernel_size = (3, 3), activation = 'relu'),\n",
        "  tf.keras.layers.MaxPooling2D((2, 2)),\n",
        "\n",
        "  tf.keras.layers.Flatten(),\n",
        "  tf.keras.layers.Dense(64, activation = 'relu'),\n",
        "  tf.keras.layers.Dense(10, activation = 'softmax')\n",
        "])"
      ],
      "metadata": {
        "id": "uvLo0dxpIR02"
      },
      "execution_count": 16,
      "outputs": []
    },
    {
      "cell_type": "code",
      "source": [
        "model.summary()"
      ],
      "metadata": {
        "colab": {
          "base_uri": "https://localhost:8080/"
        },
        "id": "G-EjNvPpJkRP",
        "outputId": "24262498-75a9-404c-d00a-c42d3306c2e3"
      },
      "execution_count": 17,
      "outputs": [
        {
          "output_type": "stream",
          "name": "stdout",
          "text": [
            "Model: \"sequential\"\n",
            "_________________________________________________________________\n",
            " Layer (type)                Output Shape              Param #   \n",
            "=================================================================\n",
            " conv2d (Conv2D)             (None, 30, 30, 32)        896       \n",
            "                                                                 \n",
            " max_pooling2d (MaxPooling2  (None, 15, 15, 32)        0         \n",
            " D)                                                              \n",
            "                                                                 \n",
            " conv2d_1 (Conv2D)           (None, 13, 13, 64)        18496     \n",
            "                                                                 \n",
            " max_pooling2d_1 (MaxPoolin  (None, 6, 6, 64)          0         \n",
            " g2D)                                                            \n",
            "                                                                 \n",
            " flatten (Flatten)           (None, 2304)              0         \n",
            "                                                                 \n",
            " dense (Dense)               (None, 64)                147520    \n",
            "                                                                 \n",
            " dense_1 (Dense)             (None, 10)                650       \n",
            "                                                                 \n",
            "=================================================================\n",
            "Total params: 167562 (654.54 KB)\n",
            "Trainable params: 167562 (654.54 KB)\n",
            "Non-trainable params: 0 (0.00 Byte)\n",
            "_________________________________________________________________\n"
          ]
        }
      ]
    },
    {
      "cell_type": "code",
      "source": [
        "model.compile(\n",
        " optimizer ='adam',\n",
        " loss = tf.keras.losses.SparseCategoricalCrossentropy(),\n",
        " metrics = ['accuracy']\n",
        ")"
      ],
      "metadata": {
        "id": "397xAaXIKG72"
      },
      "execution_count": 18,
      "outputs": []
    },
    {
      "cell_type": "code",
      "source": [
        "shape_x = xtrain.shape\n",
        "shape_y = ytrain.shape\n",
        "print(shape_x)\n",
        "print(shape_y)"
      ],
      "metadata": {
        "colab": {
          "base_uri": "https://localhost:8080/"
        },
        "id": "IhTkpX6wKRMm",
        "outputId": "e3aeaf92-a654-4524-c1f7-336e75817550"
      },
      "execution_count": 19,
      "outputs": [
        {
          "output_type": "stream",
          "name": "stdout",
          "text": [
            "(50000, 32, 32, 3)\n",
            "(50000,)\n"
          ]
        }
      ]
    },
    {
      "cell_type": "code",
      "source": [
        "history = model.fit(xtrain, ytrain, batch_size = 64, epochs = 10, validation_split = 0.3)"
      ],
      "metadata": {
        "colab": {
          "base_uri": "https://localhost:8080/"
        },
        "id": "wZqA730SLJmg",
        "outputId": "ab716b1e-bbbc-4453-901b-2c0071878fd3"
      },
      "execution_count": 20,
      "outputs": [
        {
          "output_type": "stream",
          "name": "stdout",
          "text": [
            "Epoch 1/10\n",
            "547/547 [==============================] - 68s 122ms/step - loss: 1.5847 - accuracy: 0.4281 - val_loss: 1.3266 - val_accuracy: 0.5222\n",
            "Epoch 2/10\n",
            "547/547 [==============================] - 57s 104ms/step - loss: 1.2174 - accuracy: 0.5721 - val_loss: 1.1558 - val_accuracy: 0.5957\n",
            "Epoch 3/10\n",
            "547/547 [==============================] - 48s 88ms/step - loss: 1.0819 - accuracy: 0.6196 - val_loss: 1.0841 - val_accuracy: 0.6272\n",
            "Epoch 4/10\n",
            "547/547 [==============================] - 47s 86ms/step - loss: 0.9930 - accuracy: 0.6537 - val_loss: 1.0493 - val_accuracy: 0.6333\n",
            "Epoch 5/10\n",
            "547/547 [==============================] - 49s 90ms/step - loss: 0.9230 - accuracy: 0.6785 - val_loss: 1.0516 - val_accuracy: 0.6401\n",
            "Epoch 6/10\n",
            "547/547 [==============================] - 49s 90ms/step - loss: 0.8677 - accuracy: 0.6961 - val_loss: 0.9888 - val_accuracy: 0.6595\n",
            "Epoch 7/10\n",
            "547/547 [==============================] - 46s 85ms/step - loss: 0.8127 - accuracy: 0.7164 - val_loss: 0.9883 - val_accuracy: 0.6601\n",
            "Epoch 8/10\n",
            "547/547 [==============================] - 51s 94ms/step - loss: 0.7673 - accuracy: 0.7319 - val_loss: 0.9618 - val_accuracy: 0.6709\n",
            "Epoch 9/10\n",
            "547/547 [==============================] - 50s 92ms/step - loss: 0.7246 - accuracy: 0.7474 - val_loss: 0.9605 - val_accuracy: 0.6731\n",
            "Epoch 10/10\n",
            "547/547 [==============================] - 49s 90ms/step - loss: 0.6799 - accuracy: 0.7620 - val_loss: 0.9695 - val_accuracy: 0.6814\n"
          ]
        }
      ]
    },
    {
      "cell_type": "code",
      "source": [
        "from sklearn.metrics import confusion_matrix , classification_report\n",
        "import numpy as np\n",
        "y_pred = model.predict(xtest)\n",
        "y_pred_classes = [np.argmax(element) for element in y_pred]\n",
        "print(\"Classification Report: \\n\", classification_report(ytest, y_pred_classes))"
      ],
      "metadata": {
        "colab": {
          "base_uri": "https://localhost:8080/"
        },
        "id": "4XLVFs29a-ad",
        "outputId": "05e4f9f1-e47f-4907-ede7-352f19b6065f"
      },
      "execution_count": 21,
      "outputs": [
        {
          "output_type": "stream",
          "name": "stdout",
          "text": [
            "313/313 [==============================] - 4s 13ms/step\n",
            "Classification Report: \n",
            "               precision    recall  f1-score   support\n",
            "\n",
            "           0       0.59      0.81      0.68      1000\n",
            "           1       0.85      0.74      0.79      1000\n",
            "           2       0.61      0.52      0.56      1000\n",
            "           3       0.54      0.42      0.47      1000\n",
            "           4       0.66      0.63      0.64      1000\n",
            "           5       0.66      0.53      0.58      1000\n",
            "           6       0.72      0.75      0.74      1000\n",
            "           7       0.72      0.73      0.72      1000\n",
            "           8       0.72      0.82      0.77      1000\n",
            "           9       0.68      0.81      0.74      1000\n",
            "\n",
            "    accuracy                           0.67     10000\n",
            "   macro avg       0.67      0.67      0.67     10000\n",
            "weighted avg       0.67      0.67      0.67     10000\n",
            "\n"
          ]
        }
      ]
    },
    {
      "cell_type": "code",
      "source": [
        "model.evaluate(xtest, ytest)"
      ],
      "metadata": {
        "colab": {
          "base_uri": "https://localhost:8080/"
        },
        "id": "6D9WQANnbRH9",
        "outputId": "fef139e6-e8c9-4d50-cc8a-1179ebfe989c"
      },
      "execution_count": 22,
      "outputs": [
        {
          "output_type": "stream",
          "name": "stdout",
          "text": [
            "313/313 [==============================] - 4s 12ms/step - loss: 0.9827 - accuracy: 0.6742\n"
          ]
        },
        {
          "output_type": "execute_result",
          "data": {
            "text/plain": [
              "[0.9827455282211304, 0.6741999983787537]"
            ]
          },
          "metadata": {},
          "execution_count": 22
        }
      ]
    },
    {
      "cell_type": "code",
      "source": [
        "y_pred = model.predict(xtest)\n",
        "y_pred[:5]\n"
      ],
      "metadata": {
        "colab": {
          "base_uri": "https://localhost:8080/"
        },
        "id": "i4eczqEkbpok",
        "outputId": "91122d9a-4f72-4720-a38c-9c46a4b04b31"
      },
      "execution_count": 23,
      "outputs": [
        {
          "output_type": "stream",
          "name": "stdout",
          "text": [
            "313/313 [==============================] - 5s 14ms/step\n"
          ]
        },
        {
          "output_type": "execute_result",
          "data": {
            "text/plain": [
              "array([[3.58646299e-04, 3.86577245e-04, 5.12608327e-04, 4.94698346e-01,\n",
              "        1.24413939e-03, 7.67097203e-03, 4.73459903e-03, 2.35705829e-05,\n",
              "        4.71751034e-01, 1.86195020e-02],\n",
              "       [6.19469024e-03, 6.99124634e-02, 8.91963850e-07, 3.20508235e-07,\n",
              "        7.46887963e-07, 1.32466020e-08, 1.71527873e-07, 6.11072082e-08,\n",
              "        9.23625171e-01, 2.65547918e-04],\n",
              "       [1.17621884e-01, 2.56303102e-01, 2.46394426e-04, 7.82076037e-04,\n",
              "        4.40690201e-03, 4.36086964e-04, 1.09475375e-04, 4.74246358e-03,\n",
              "        5.86598456e-01, 2.87530590e-02],\n",
              "       [9.66039598e-01, 9.30560287e-03, 2.20100558e-03, 5.25483629e-04,\n",
              "        1.52162078e-03, 2.24447631e-05, 9.52357659e-04, 4.02235382e-05,\n",
              "        1.91533174e-02, 2.38263980e-04],\n",
              "       [5.64524362e-06, 1.23194448e-04, 8.19067936e-03, 2.88624913e-02,\n",
              "        6.57271504e-01, 1.25108776e-03, 3.04248095e-01, 9.24252709e-06,\n",
              "        2.72968337e-05, 1.07148135e-05]], dtype=float32)"
            ]
          },
          "metadata": {},
          "execution_count": 23
        }
      ]
    },
    {
      "cell_type": "code",
      "source": [
        "y_classes = [np.argmax(element) for element in y_pred]\n",
        "y_classes[:5]"
      ],
      "metadata": {
        "colab": {
          "base_uri": "https://localhost:8080/"
        },
        "id": "pXrtZJdpbyG1",
        "outputId": "dae09b6f-d341-445c-bb8f-8ff398416f7f"
      },
      "execution_count": 24,
      "outputs": [
        {
          "output_type": "execute_result",
          "data": {
            "text/plain": [
              "[3, 8, 8, 0, 4]"
            ]
          },
          "metadata": {},
          "execution_count": 24
        }
      ]
    },
    {
      "cell_type": "code",
      "source": [
        "ytest[:5]"
      ],
      "metadata": {
        "colab": {
          "base_uri": "https://localhost:8080/"
        },
        "id": "WksVCBtJb79B",
        "outputId": "6ec49be9-3887-493e-e1f9-9a32090f4317"
      },
      "execution_count": 25,
      "outputs": [
        {
          "output_type": "execute_result",
          "data": {
            "text/plain": [
              "array([3, 8, 8, 0, 6], dtype=uint8)"
            ]
          },
          "metadata": {},
          "execution_count": 25
        }
      ]
    },
    {
      "cell_type": "code",
      "source": [
        "def plot_sample(x, y, index):\n",
        " plt.figure(figsize = (15, 2))\n",
        " plt.imshow(x[index])\n",
        " plt.xlabel(classes[y[index]])"
      ],
      "metadata": {
        "id": "tNeHwx5Vciht"
      },
      "execution_count": 26,
      "outputs": []
    },
    {
      "cell_type": "code",
      "source": [
        "plot_sample(xtest, ytest, 3)"
      ],
      "metadata": {
        "colab": {
          "base_uri": "https://localhost:8080/",
          "height": 237
        },
        "id": "-gYbp17Db-7D",
        "outputId": "d94ed7b7-b2eb-4a5b-d840-d653e1807da3"
      },
      "execution_count": 27,
      "outputs": [
        {
          "output_type": "display_data",
          "data": {
            "text/plain": [
              "<Figure size 1500x200 with 1 Axes>"
            ],
            "image/png": "[encoded data removed]"
          },
          "metadata": {}
        }
      ]
    },
    {
      "cell_type": "code",
      "source": [
        "classes[y_classes[3]]"
      ],
      "metadata": {
        "colab": {
          "base_uri": "https://localhost:8080/",
          "height": 36
        },
        "id": "mrfH9LMFcnI0",
        "outputId": "5b8082a9-d642-4627-f511-45084b5c79d3"
      },
      "execution_count": 28,
      "outputs": [
        {
          "output_type": "execute_result",
          "data": {
            "text/plain": [
              "'airplane'"
            ],
            "application/vnd.google.colaboratory.intrinsic+json": {
              "type": "string"
            }
          },
          "metadata": {},
          "execution_count": 28
        }
      ]
    },
    {
      "cell_type": "code",
      "source": [
        "classes[y_classes[3]]"
      ],
      "metadata": {
        "colab": {
          "base_uri": "https://localhost:8080/",
          "height": 36
        },
        "id": "cwIHsuj3cumM",
        "outputId": "a865fafa-020c-4500-bd3c-9b6f51a97290"
      },
      "execution_count": 29,
      "outputs": [
        {
          "output_type": "execute_result",
          "data": {
            "text/plain": [
              "'airplane'"
            ],
            "application/vnd.google.colaboratory.intrinsic+json": {
              "type": "string"
            }
          },
          "metadata": {},
          "execution_count": 29
        }
      ]
    }
  ]
}